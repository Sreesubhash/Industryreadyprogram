{
 "cells": [
  {
   "cell_type": "code",
   "execution_count": 1,
   "id": "de26afc0-da07-4580-8c91-0ef22d382cca",
   "metadata": {},
   "outputs": [
    {
     "name": "stdout",
     "output_type": "stream",
     "text": [
      "sum of 8 and 4 is 12\n",
      "sub of 8 and 4 is 4\n"
     ]
    }
   ],
   "source": [
    "x = 8\n",
    "y = 4\n",
    "\n",
    "z = x + y\n",
    "\n",
    "v = x - y\n",
    "\n",
    "print(f'sum of {x} and {y} is {z}')\n",
    "\n",
    "print(f'sub of {x} and {y} is {v}')"
   ]
  },
  {
   "cell_type": "code",
   "execution_count": null,
   "id": "ae8a9dc0-976a-4a7a-a3b0-44b9187261c7",
   "metadata": {},
   "outputs": [],
   "source": []
  }
 ],
 "metadata": {
  "kernelspec": {
   "display_name": "Python 3 (ipykernel)",
   "language": "python",
   "name": "python3"
  },
  "language_info": {
   "codemirror_mode": {
    "name": "ipython",
    "version": 3
   },
   "file_extension": ".py",
   "mimetype": "text/x-python",
   "name": "python",
   "nbconvert_exporter": "python",
   "pygments_lexer": "ipython3",
   "version": "3.10.4"
  }
 },
 "nbformat": 4,
 "nbformat_minor": 5
}
